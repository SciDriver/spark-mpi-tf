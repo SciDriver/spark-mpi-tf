{
 "cells": [
  {
   "cell_type": "markdown",
   "metadata": {},
   "source": [
    "# The MNIST Application"
   ]
  },
  {
   "cell_type": "markdown",
   "metadata": {},
   "source": [
    "This is a conventional TensorFlow-based MNIST application, see for example:\n",
    "\n",
    "TensorFlow tutorial: https://www.tensorflow.org/tutorials/layers\n",
    "\n",
    "Horovod's MNIST example: https://github.com/uber/horovod/blob/master/examples/tensorflow_mnist.py"
   ]
  },
  {
   "cell_type": "code",
   "execution_count": 1,
   "metadata": {
    "collapsed": true
   },
   "outputs": [],
   "source": [
    "import os\n",
    "import time\n",
    "from datetime import timedelta, datetime, tzinfo"
   ]
  },
  {
   "cell_type": "markdown",
   "metadata": {
    "collapsed": true
   },
   "source": [
    "## Train the TensorFlow single worker with the MNIST data"
   ]
  },
  {
   "cell_type": "code",
   "execution_count": 2,
   "metadata": {
    "collapsed": false
   },
   "outputs": [
    {
     "name": "stdout",
     "output_type": "stream",
     "text": [
      "Extracting MNIST-data/train-images-idx3-ubyte.gz\n",
      "Extracting MNIST-data/train-labels-idx1-ubyte.gz\n",
      "Extracting MNIST-data/t10k-images-idx3-ubyte.gz\n",
      "Extracting MNIST-data/t10k-labels-idx1-ubyte.gz\n",
      "INFO:tensorflow:Create CheckpointSaverHook.\n",
      "INFO:tensorflow:Saving checkpoints for 1 into ./tf-checkpoints/model.ckpt.\n",
      "INFO:tensorflow:loss = 2.313424, step = 1\n",
      "INFO:tensorflow:global_step/sec: 57.9858\n",
      "INFO:tensorflow:loss = 1.2679976, step = 101 (1.542 sec)\n",
      "INFO:tensorflow:global_step/sec: 71.0995\n",
      "INFO:tensorflow:loss = 0.12810637, step = 201 (1.406 sec)\n",
      "INFO:tensorflow:global_step/sec: 71.1833\n",
      "INFO:tensorflow:loss = 0.11259402, step = 301 (1.405 sec)\n",
      "INFO:tensorflow:global_step/sec: 71.2567\n",
      "INFO:tensorflow:loss = 0.07178667, step = 401 (1.404 sec)\n",
      "INFO:tensorflow:Saving checkpoints for 401 into ./tf-checkpoints/model.ckpt.\n"
     ]
    }
   ],
   "source": [
    "import tensorflow as tf\n",
    "import mnist_app\n",
    "\n",
    "log_string = mnist_app.get_log_string(1024)\n",
    "\n",
    "# Extract the MNIST dataset\n",
    "learn = tf.contrib.learn\n",
    "mnist = learn.datasets.mnist.read_data_sets('MNIST-data')\n",
    "\n",
    "# Build model...\n",
    "import mnist_app\n",
    "with tf.name_scope('input'):\n",
    "    image = tf.placeholder(tf.float32, [None, 784], name='image')\n",
    "    label = tf.placeholder(tf.float32, [None], name='label')\n",
    "predict, loss = mnist_app.conv_model(image, label, tf.contrib.learn.ModeKeys.TRAIN)\n",
    "    \n",
    "global_step = tf.train.get_or_create_global_step()\n",
    "\n",
    "opt = tf.train.RMSPropOptimizer(0.001)\n",
    "train_opt = opt.minimize(loss=loss, global_step=global_step)\n",
    "\n",
    "# The MonitoredTrainingSession takes care of session initialization,\n",
    "# restoring from a checkpoint, saving to a checkpoint, and closing \n",
    "# when done or an error occurs.\n",
    "\n",
    "checkpoint_dir = './tf-checkpoints'\n",
    "\n",
    "hooks = [\n",
    "    tf.train.StopAtStepHook(last_step=401),\n",
    "    tf.train.LoggingTensorHook(tensors={'step': global_step, 'loss': loss},\n",
    "                               every_n_iter=100),\n",
    "]\n",
    "\n",
    "config = tf.ConfigProto()\n",
    "config.gpu_options.allow_growth = True\n",
    "config.gpu_options.visible_device_list = \"0\"\n",
    "\n",
    "with tf.train.MonitoredTrainingSession(checkpoint_dir=checkpoint_dir,\n",
    "                                       hooks=hooks,\n",
    "                                       config=config) as mon_sess:\n",
    "    while not mon_sess.should_stop():\n",
    "        # Run a training step synchronously.\n",
    "        image_, label_ = mnist.train.next_batch(100)\n",
    "        mon_sess.run(train_opt, feed_dict={image: image_, label: label_})"
   ]
  }
 ],
 "metadata": {
  "anaconda-cloud": {},
  "kernelspec": {
   "display_name": "Python [default]",
   "language": "python",
   "name": "python3"
  },
  "language_info": {
   "codemirror_mode": {
    "name": "ipython",
    "version": 3
   },
   "file_extension": ".py",
   "mimetype": "text/x-python",
   "name": "python",
   "nbconvert_exporter": "python",
   "pygments_lexer": "ipython3",
   "version": "3.5.2"
  }
 },
 "nbformat": 4,
 "nbformat_minor": 2
}
